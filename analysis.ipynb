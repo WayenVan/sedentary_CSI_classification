{
 "cells": [
  {
   "cell_type": "markdown",
   "id": "ee891d2d-1256-4077-abeb-b94f82c6b85d",
   "metadata": {},
   "source": [
    "# Analize result"
   ]
  },
  {
   "cell_type": "code",
   "execution_count": 1,
   "id": "3e0ba8db-d53c-4c34-ab29-fe3c2d3350e1",
   "metadata": {},
   "outputs": [
    {
     "name": "stderr",
     "output_type": "stream",
     "text": [
      "2022-05-20 14:08:56.357900: I tensorflow/core/util/util.cc:169] oneDNN custom operations are on. You may see slightly different numerical results due to floating-point round-off errors from different computation orders. To turn them off, set the environment variable `TF_ENABLE_ONEDNN_OPTS=0`.\n"
     ]
    }
   ],
   "source": [
    "import json\n",
    "import numpy as np\n",
    "import pandas as pd \n",
    "import os\n",
    "\n",
    "from generator import CatmGenerator\n",
    "from models_tf.CADM import CADM\n",
    "\n",
    "from keras import optimizers, losses, metrics\n",
    "import tensorflow as tf\n",
    "from tensorflow.data import Dataset\n",
    "\n",
    "model_saved_dir = \"saved_models/cluster/cadm_catm_env1\"\n",
    "dataset_dir = \"dataset/DAM_nonToF/all0508\"\n",
    "model_weights_file=\"checkpoint_70\"\n",
    "device = '/CPU:0'\n",
    "lr = 0.00001"
   ]
  },
  {
   "cell_type": "code",
   "execution_count": 2,
   "id": "e63780aa-00f0-4fff-b159-175509b245f8",
   "metadata": {},
   "outputs": [
    {
     "name": "stdout",
     "output_type": "stream",
     "text": [
      "keys in info:\n",
      "data_set\n",
      "train_list\n",
      "test_list\n",
      "model_name\n",
      "input_shape\n",
      "d_model\n"
     ]
    }
   ],
   "source": [
    "with open(os.path.join(model_saved_dir, 'info.json'), 'r') as f:\n",
    "    info = json.load(f)\n",
    "\n",
    "print(\"keys in info:\")\n",
    "for key in info.keys():\n",
    "    print(key)"
   ]
  },
  {
   "cell_type": "code",
   "execution_count": 3,
   "id": "b902540f-ad3b-468c-b0aa-8f2b456e93ca",
   "metadata": {},
   "outputs": [
    {
     "name": "stderr",
     "output_type": "stream",
     "text": [
      "2022-05-20 14:08:57.407608: I tensorflow/stream_executor/cuda/cuda_gpu_executor.cc:975] successful NUMA node read from SysFS had negative value (-1), but there must be at least one NUMA node, so returning NUMA node zero\n",
      "2022-05-20 14:08:57.435924: I tensorflow/stream_executor/cuda/cuda_gpu_executor.cc:975] successful NUMA node read from SysFS had negative value (-1), but there must be at least one NUMA node, so returning NUMA node zero\n",
      "2022-05-20 14:08:57.436078: I tensorflow/stream_executor/cuda/cuda_gpu_executor.cc:975] successful NUMA node read from SysFS had negative value (-1), but there must be at least one NUMA node, so returning NUMA node zero\n",
      "2022-05-20 14:08:57.436597: I tensorflow/core/platform/cpu_feature_guard.cc:193] This TensorFlow binary is optimized with oneAPI Deep Neural Network Library (oneDNN) to use the following CPU instructions in performance-critical operations:  AVX2 AVX512F AVX512_VNNI FMA\n",
      "To enable them in other operations, rebuild TensorFlow with the appropriate compiler flags.\n",
      "2022-05-20 14:08:57.436940: I tensorflow/stream_executor/cuda/cuda_gpu_executor.cc:975] successful NUMA node read from SysFS had negative value (-1), but there must be at least one NUMA node, so returning NUMA node zero\n",
      "2022-05-20 14:08:57.437084: I tensorflow/stream_executor/cuda/cuda_gpu_executor.cc:975] successful NUMA node read from SysFS had negative value (-1), but there must be at least one NUMA node, so returning NUMA node zero\n",
      "2022-05-20 14:08:57.437188: I tensorflow/stream_executor/cuda/cuda_gpu_executor.cc:975] successful NUMA node read from SysFS had negative value (-1), but there must be at least one NUMA node, so returning NUMA node zero\n",
      "2022-05-20 14:08:57.944549: I tensorflow/stream_executor/cuda/cuda_gpu_executor.cc:975] successful NUMA node read from SysFS had negative value (-1), but there must be at least one NUMA node, so returning NUMA node zero\n",
      "2022-05-20 14:08:57.944732: I tensorflow/stream_executor/cuda/cuda_gpu_executor.cc:975] successful NUMA node read from SysFS had negative value (-1), but there must be at least one NUMA node, so returning NUMA node zero\n",
      "2022-05-20 14:08:57.944847: I tensorflow/stream_executor/cuda/cuda_gpu_executor.cc:975] successful NUMA node read from SysFS had negative value (-1), but there must be at least one NUMA node, so returning NUMA node zero\n",
      "2022-05-20 14:08:57.944953: I tensorflow/core/common_runtime/gpu/gpu_device.cc:1532] Created device /job:localhost/replica:0/task:0/device:GPU:0 with 65 MB memory:  -> device: 0, name: Quadro RTX 6000, pci bus id: 0000:03:00.0, compute capability: 7.5\n"
     ]
    }
   ],
   "source": [
    "#create dataset\n",
    "img_size = (info[\"input_shape\"][1], info[\"input_shape\"][2], info[\"input_shape\"][3])\n",
    "data_gen = CatmGenerator(info[\"test_list\"], dataset_dir, img_resize=(img_size[0], img_size[1]))\n",
    "n_batch_size = 32\n",
    "T_MAX = data_gen.sequence_len()\n",
    "N_MOTION = info[\"d_model\"]\n",
    "data_list = info[\"test_list\"]\n",
    "with tf.device(device):\n",
    "    dataset = Dataset.from_generator(\n",
    "        data_gen.generator,\n",
    "        output_signature=(\n",
    "            tf.TensorSpec(shape=(T_MAX, img_size[0], img_size[1], img_size[2]), dtype=tf.float32),\n",
    "            tf.TensorSpec(shape=(), dtype=tf.int32)\n",
    "        )\n",
    "    )"
   ]
  },
  {
   "cell_type": "code",
   "execution_count": 4,
   "id": "357475ee-0a95-4a1a-9319-49e3eb7831da",
   "metadata": {},
   "outputs": [],
   "source": [
    "#load model\n",
    "\n",
    "with tf.device(device):\n",
    "    model = CADM(N_MOTION)\n",
    "    model.compile(\n",
    "        optimizer=optimizers.Adam(learning_rate=lr),\n",
    "        loss=losses.SparseCategoricalCrossentropy(),\n",
    "        metrics=[metrics.SparseCategoricalAccuracy()],\n",
    "        run_eagerly=True\n",
    "    )\n",
    "    \n",
    "    model.load_weights(os.path.join(model_saved_dir, model_weights_file)) \n"
   ]
  },
  {
   "cell_type": "code",
   "execution_count": 5,
   "id": "ad6ebfa7-33d3-4e41-9476-eefb1df2df6f",
   "metadata": {},
   "outputs": [
    {
     "name": "stderr",
     "output_type": "stream",
     "text": [
      "2022-05-20 14:09:06.386347: I tensorflow/stream_executor/cuda/cuda_driver.cc:739] failed to allocate 65.44M (68616192 bytes) from device: CUDA_ERROR_OUT_OF_MEMORY: out of memory\n"
     ]
    },
    {
     "name": "stdout",
     "output_type": "stream",
     "text": [
      "     Users  Labels  Predicted\n",
      "0    user1       6          6\n",
      "1    user4       4          3\n",
      "2    user2       6          6\n",
      "3    user4       6          6\n",
      "4    user5       2          2\n",
      "..     ...     ...        ...\n",
      "262  user1       1          1\n",
      "263  user5       3          3\n",
      "264  user1       6          6\n",
      "265  user1       3          3\n",
      "266  user5       7          7\n",
      "\n",
      "[267 rows x 3 columns]\n"
     ]
    }
   ],
   "source": [
    "# evaluate output values\n",
    "with tf.device(device):\n",
    "    predicted = []\n",
    "    labels = []\n",
    "    users = []\n",
    "    for index, (data, label) in enumerate(dataset):\n",
    "        assert int(data_list[index].split('-')[1])-1 == int(label)\n",
    "        user = data_list[index].split('-')[0]\n",
    "        data = tf.expand_dims(data, axis=0)\n",
    "        p = model(data) #(1, 100, 10)\n",
    "        p = tf.math.argmax(p, axis=-1)\n",
    "        p = tf.squeeze(p)\n",
    "        \n",
    "        predicted.append(int(p))\n",
    "        labels.append(int(label))\n",
    "        users.append(user)\n",
    "        \n",
    "result = pd.DataFrame({\n",
    "    \"Users\":users,\n",
    "    \"Labels\":labels,\n",
    "    \"Predicted\":predicted})  "
   ]
  },
  {
   "cell_type": "code",
   "execution_count": 23,
   "id": "ed8600ff-d05a-4ce6-82e9-a42f2feccd26",
   "metadata": {},
   "outputs": [],
   "source": [
    "user_split = []\n",
    "for i in range(5):\n",
    "    user_split.append(result[result.Users == (\"user\"+str(i+1))])"
   ]
  },
  {
   "cell_type": "code",
   "execution_count": 24,
   "id": "5dffc3a8-5c15-4ce0-b0b1-ebb6859c78ef",
   "metadata": {},
   "outputs": [
    {
     "name": "stdout",
     "output_type": "stream",
     "text": [
      "--------->user1\n",
      "\t------>motion0---->\n",
      "total: 7, accuracy: 6, percent: 85.71428571428571\n",
      "\t------>motion1---->\n",
      "total: 8, accuracy: 7, percent: 87.5\n",
      "\t------>motion2---->\n",
      "total: 4, accuracy: 3, percent: 75.0\n",
      "\t------>motion3---->\n",
      "total: 6, accuracy: 5, percent: 83.33333333333334\n",
      "\t------>motion4---->\n",
      "total: 9, accuracy: 8, percent: 88.88888888888889\n",
      "\t------>motion5---->\n",
      "total: 7, accuracy: 7, percent: 100.0\n",
      "\t------>motion6---->\n",
      "total: 10, accuracy: 9, percent: 90.0\n",
      "\t------>motion7---->\n",
      "total: 6, accuracy: 5, percent: 83.33333333333334\n",
      "--------->user2\n",
      "\t------>motion0---->\n",
      "total: 7, accuracy: 7, percent: 100.0\n",
      "\t------>motion1---->\n",
      "total: 5, accuracy: 4, percent: 80.0\n",
      "\t------>motion2---->\n",
      "total: 8, accuracy: 7, percent: 87.5\n",
      "\t------>motion3---->\n",
      "total: 8, accuracy: 7, percent: 87.5\n",
      "\t------>motion4---->\n",
      "total: 7, accuracy: 5, percent: 71.42857142857143\n",
      "\t------>motion5---->\n",
      "total: 8, accuracy: 8, percent: 100.0\n",
      "\t------>motion6---->\n",
      "total: 4, accuracy: 4, percent: 100.0\n",
      "\t------>motion7---->\n",
      "total: 6, accuracy: 4, percent: 66.66666666666666\n",
      "--------->user3\n",
      "\t------>motion0---->\n",
      "total: 4, accuracy: 3, percent: 75.0\n",
      "\t------>motion1---->\n",
      "total: 3, accuracy: 3, percent: 100.0\n",
      "\t------>motion2---->\n",
      "total: 8, accuracy: 7, percent: 87.5\n",
      "\t------>motion3---->\n",
      "total: 6, accuracy: 3, percent: 50.0\n",
      "\t------>motion4---->\n",
      "total: 2, accuracy: 2, percent: 100.0\n",
      "\t------>motion5---->\n",
      "total: 8, accuracy: 5, percent: 62.5\n",
      "\t------>motion6---->\n",
      "total: 2, accuracy: 2, percent: 100.0\n",
      "\t------>motion7---->\n",
      "total: 5, accuracy: 5, percent: 100.0\n",
      "--------->user4\n",
      "\t------>motion0---->\n",
      "total: 8, accuracy: 8, percent: 100.0\n",
      "\t------>motion1---->\n",
      "total: 3, accuracy: 2, percent: 66.66666666666666\n",
      "\t------>motion2---->\n",
      "total: 7, accuracy: 7, percent: 100.0\n",
      "\t------>motion3---->\n",
      "total: 6, accuracy: 6, percent: 100.0\n",
      "\t------>motion4---->\n",
      "total: 10, accuracy: 9, percent: 90.0\n",
      "\t------>motion5---->\n",
      "total: 7, accuracy: 5, percent: 71.42857142857143\n",
      "\t------>motion6---->\n",
      "total: 8, accuracy: 8, percent: 100.0\n",
      "\t------>motion7---->\n",
      "total: 10, accuracy: 9, percent: 90.0\n",
      "--------->user5\n",
      "\t------>motion0---->\n",
      "total: 5, accuracy: 4, percent: 80.0\n",
      "\t------>motion1---->\n",
      "total: 9, accuracy: 6, percent: 66.66666666666666\n",
      "\t------>motion2---->\n",
      "total: 8, accuracy: 8, percent: 100.0\n",
      "\t------>motion3---->\n",
      "total: 5, accuracy: 5, percent: 100.0\n",
      "\t------>motion4---->\n",
      "total: 4, accuracy: 3, percent: 75.0\n",
      "\t------>motion5---->\n",
      "total: 10, accuracy: 9, percent: 90.0\n",
      "\t------>motion6---->\n",
      "total: 12, accuracy: 8, percent: 66.66666666666666\n",
      "\t------>motion7---->\n",
      "total: 7, accuracy: 6, percent: 85.71428571428571\n"
     ]
    }
   ],
   "source": [
    "for u, df in enumerate(user_split):\n",
    "    print(\"--------->user{}\".format(u+1))\n",
    "    for m in range(8):\n",
    "        print(\"\\t------>motion{}---->\".format(m))\n",
    "        \n",
    "        label_count = len(df[df.Labels==m])\n",
    "        \n",
    "        tmp = df[df.Labels==m]\n",
    "        tmp = tmp[tmp.Labels==tmp.Predicted]\n",
    "        label_right_count = len(tmp)\n",
    "        \n",
    "        p = label_right_count/label_count * 100\n",
    "        \n",
    "        print('total: {}, accuracy: {}, percent: {}'.format(label_count, label_right_count, p))"
   ]
  },
  {
   "cell_type": "code",
   "execution_count": 26,
   "id": "59d47123-041d-4da4-b471-2f8f65e50322",
   "metadata": {},
   "outputs": [
    {
     "name": "stdout",
     "output_type": "stream",
     "text": [
      "------->motion0\n",
      "total: 31, accuracy: 28, percent90.32258064516128\n",
      "------->motion1\n",
      "total: 28, accuracy: 22, percent78.57142857142857\n",
      "------->motion2\n",
      "total: 35, accuracy: 32, percent91.42857142857143\n",
      "------->motion3\n",
      "total: 31, accuracy: 26, percent83.87096774193549\n",
      "------->motion4\n",
      "total: 32, accuracy: 27, percent84.375\n",
      "------->motion5\n",
      "total: 40, accuracy: 34, percent85.0\n",
      "------->motion6\n",
      "total: 36, accuracy: 31, percent86.11111111111111\n",
      "------->motion7\n",
      "total: 34, accuracy: 29, percent85.29411764705883\n"
     ]
    }
   ],
   "source": [
    "for m in range(8):\n",
    "    print('------->motion{}'.format(m))\n",
    "    label_count = len(result[result.Labels==m])\n",
    "\n",
    "    tmp = result[result.Labels==m]\n",
    "    tmp = tmp[tmp.Labels==tmp.Predicted]\n",
    "    label_right_count = len(tmp)\n",
    "    p = label_right_count/label_count * 100\n",
    "    print('total: {}, accuracy: {}, percent{}'.format(label_count, label_right_count, p))"
   ]
  },
  {
   "cell_type": "code",
   "execution_count": 5,
   "id": "e727c09d-df44-44ba-839d-7feca71767d7",
   "metadata": {},
   "outputs": [
    {
     "name": "stderr",
     "output_type": "stream",
     "text": [
      "2022-05-20 13:39:34.987667: I tensorflow/stream_executor/cuda/cuda_driver.cc:739] failed to allocate 65.44M (68616192 bytes) from device: CUDA_ERROR_OUT_OF_MEMORY: out of memory\n"
     ]
    },
    {
     "name": "stdout",
     "output_type": "stream",
     "text": [
      "9/9 [==============================] - 51s 6s/step - loss: 0.4203 - sparse_categorical_accuracy: 0.8577\n",
      "[0.42025670409202576, 0.8576778769493103]\n"
     ]
    }
   ],
   "source": [
    "# evaluate loss and accuracy\n",
    "dataset_batched = dataset.batch(n_batch_size)\n",
    "with tf.device(device):\n",
    "    loss = model.evaluate(x=dataset)\n",
    "    print(loss)"
   ]
  },
  {
   "cell_type": "code",
   "execution_count": null,
   "id": "a59e5dbc-0c06-45e9-a21f-505c577fe964",
   "metadata": {},
   "outputs": [],
   "source": []
  }
 ],
 "metadata": {
  "kernelspec": {
   "display_name": "Python 3 (ipykernel)",
   "language": "python",
   "name": "python3"
  },
  "language_info": {
   "codemirror_mode": {
    "name": "ipython",
    "version": 3
   },
   "file_extension": ".py",
   "mimetype": "text/x-python",
   "name": "python",
   "nbconvert_exporter": "python",
   "pygments_lexer": "ipython3",
   "version": "3.9.12"
  }
 },
 "nbformat": 4,
 "nbformat_minor": 5
}
