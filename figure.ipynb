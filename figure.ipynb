{
 "cells": [
  {
   "cell_type": "code",
   "execution_count": 69,
   "metadata": {},
   "outputs": [],
   "source": [
    "import matplotlib.pyplot as plt\n",
    "import numpy as np\n",
    "import seaborn as sns\n",
    "\n",
    "sns.set_theme()\n",
    "\n",
    "%matplotlib inline"
   ]
  },
  {
   "cell_type": "code",
   "execution_count": 73,
   "metadata": {},
   "outputs": [
    {
     "data": {
      "image/png": "[encoded data removed]",
      "text/plain": [
       "<Figure size 432x288 with 1 Axes>"
      ]
     },
     "metadata": {
      "needs_background": "light"
     },
     "output_type": "display_data"
    }
   ],
   "source": [
    "data = {\n",
    "    'direction': (\"D1\", 'D2', 'D3'),\n",
    "    'accuracy_tof':(85.8, 85.4, 86.8),\n",
    "    'accuracy_non_tof':(79.8, 83.5, 71.5)\n",
    "}\n",
    "\n",
    "fig, ax = plt.subplots()\n",
    "\n",
    "x = np.arange(3)\n",
    "width = 0.2\n",
    "n = 2\n",
    "\n",
    "ax.set_title('')\n",
    "\n",
    "ax.set_xlabel('Direction')\n",
    "ax.set_ylabel('Percentage(%)')\n",
    "\n",
    "ax.bar(x - width/2, data['accuracy_tof'], width=width, label='CATM')\n",
    "\n",
    "for x_, y_ in zip(x-width/2, data['accuracy_tof']):\n",
    "    plt.text(x_, y_+3, str(y_), ha = 'center', va = 'bottom', fontsize=11)\n",
    "\n",
    "ax.bar(x + width/2, data['accuracy_non_tof'], width=width, label='NT-CATM')\n",
    "\n",
    "for x_, y_ in zip(x+width/2, data['accuracy_non_tof']):\n",
    "    plt.text(x_, y_+3, str(y_), ha = 'center', va = 'bottom', fontsize=11)\n",
    "\n",
    "ax.set_ylim([0, 120])\n",
    "ax.set_xticks(x, data['direction'])\n",
    "plt.legend()\n",
    "\n",
    "plt.savefig('saved_figures/1.pdf')"
   ]
  },
  {
   "cell_type": "code",
   "execution_count": null,
   "metadata": {},
   "outputs": [],
   "source": []
  }
 ],
 "metadata": {
  "interpreter": {
   "hash": "f1bbd2da5486180b84d726c4991c7bdbd8c539a7dd1da0e16be57423865e9328"
  },
  "kernelspec": {
   "display_name": "Python 3.9.12 ('dl')",
   "language": "python",
   "name": "python3"
  },
  "language_info": {
   "codemirror_mode": {
    "name": "ipython",
    "version": 3
   },
   "file_extension": ".py",
   "mimetype": "text/x-python",
   "name": "python",
   "nbconvert_exporter": "python",
   "pygments_lexer": "ipython3",
   "version": "3.9.12"
  },
  "orig_nbformat": 4
 },
 "nbformat": 4,
 "nbformat_minor": 2
}
